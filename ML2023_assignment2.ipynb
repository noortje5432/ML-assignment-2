{
 "cells": [
  {
   "cell_type": "markdown",
   "metadata": {},
   "source": [
    "# Assignment 2\n",
    "\n",
    "*Part of the course:\n",
    "Machine Learning (code: INFOB3ML), fall 2023, Utrecht University*\n",
    "\n",
    "Total points: 10 + 1 bonus\n",
    "\n",
    "Deadline: Friday 29 September, 23:59\n",
    "\n",
    "**Write your names and student numbers here: Vincent van Akker(6425316) and Noortje Peeters (7982356)**\n",
    "\n",
    "Submit one ipynb file per pair.\n",
    "\n",
    "**Before you submit, click Kernel > Restart & Run All to make sure you submit a working version of your code!**"
   ]
  },
  {
   "cell_type": "markdown",
   "metadata": {},
   "source": [
    "## Coin Flipping\n",
    "In this second assignment, you're going to see how some of the central concepts from Bayesian machine learning behave in different scenarios. You'll be looking at the coin flipping example that has also taken a central place in the book and the lectures so far.\n",
    "\n",
    "When flipping a coin $N$ times, under very reasonable assumptions, the probability of getting $y$ times heads is given by the binomial distribution with parameters $N$ and $r$, where $r$ is the probability that the coin lands heads on one flip.\n",
    "\n",
    "SciPy includes functions for working with many well-known distributions, allowing you to sample from them and compute probabilities and densities, as well as many other properties. For the binomial distribution, you can compute the probability of getting $y$ heads with `binom.pmf(y, N, r)`."
   ]
  },
  {
   "cell_type": "markdown",
   "metadata": {},
   "source": [
    "**Task 1** (1 point): For the values $r = 0.00, 0.01, \\ldots, 1.00$, compute the likelihood of seeing 9 out of 10 heads, and plot these in a graph."
   ]
  },
  {
   "cell_type": "code",
   "execution_count": 144,
   "metadata": {},
   "outputs": [
    {
     "data": {
      "image/png": "[encoded data removed]",
      "text/plain": [
       "<Figure size 432x288 with 1 Axes>"
      ]
     },
     "metadata": {
      "needs_background": "light"
     },
     "output_type": "display_data"
    }
   ],
   "source": [
    "import numpy as np\n",
    "import math\n",
    "import matplotlib.pyplot as plt\n",
    "from scipy.stats import binom, beta\n",
    "import scipy.special as sps\n",
    "\n",
    "# Use np.linspace to get a NumPy array of evenly spaced values for r.\n",
    "\n",
    "# YOUR CODE HERE\n",
    "r = np.linspace(0.00, 1.00, 101)                  #Array [0, 0.01, 0.02, ..., 0.99, 1] for the probability coin lands on head\n",
    "p = []                                            #Empty array for the probability for y out of N heads.\n",
    "N = 10                                            #Number of coin flips\n",
    "y = 9                                             #Number of heads\n",
    "for i in range(len(r)):                           #For every r, we calculate p with the binomial distribution\n",
    "    p_i = binom.pmf(y, N, r[i])\n",
    "    p.append(p_i)                                 #Add the p_i to the list\n",
    "plt.plot(r, p, c='black')                         #Plot with r on the x-axis and p on the y-axis\n",
    "plt.title(\"Likelihood 9 out of 10 heads\")\n",
    "plt.xlabel(\"probability lands on head\")\n",
    "plt.ylabel(\"likelihood\")\n",
    "plt.show()"
   ]
  },
  {
   "cell_type": "markdown",
   "metadata": {},
   "source": [
    "### Predictors\n",
    "\n",
    "We will define three different \"predictor\" classes. The first will use maximum likelihood to make its predictions, the other two will use a Bayesian approach, with different kinds of priors. Each predictor object will have the following functions:\n",
    "\n",
    "* `predictor.updated(num_heads, N)` returns a new predictor object. This predictor object copies the information from the original predictor object `self`, but updated with the information that `N` additional new data points have been seen, `num_heads` of which were heads.\n",
    "\n",
    "* `predictor.predict()` returns a number between 0 and 1, which is the probability that this predictor assigns to the next coin flip coming up heads.\n",
    "\n",
    "* `predictor.marginal_likelihood(num_heads, N)` returns the Bayesian marginal likelihood. This is only defined for Bayesian predictors; for other types, it returns `np.nan` (\"not a number\").\n",
    "\n",
    "The definition of the `MaximumLikelihoodPredictor` predictor class is given below (you don't need to change it), with some testing code to see it in action. It computes the maximum likelihood estimator for the probability that the coin lands heads, and uses this value as its prediction of how likely the next coin is to land heads."
   ]
  },
  {
   "cell_type": "code",
   "execution_count": 145,
   "metadata": {},
   "outputs": [
    {
     "name": "stdout",
     "output_type": "stream",
     "text": [
      "Before: MaximumLikelihoodPredictor with num_heads = 0, N = 0\n",
      "After: MaximumLikelihoodPredictor with num_heads = 2, N = 2\n",
      "prediction = 1.0\n"
     ]
    }
   ],
   "source": [
    "class MaximumLikelihoodPredictor:\n",
    "    def __init__(self):\n",
    "        self.num_heads = 0\n",
    "        self.N = 0\n",
    "    def __str__(self):\n",
    "        return f\"MaximumLikelihoodPredictor with num_heads = {self.num_heads}, N = {self.N}\"\n",
    "    def updated(self, num_heads, N):\n",
    "        after = MaximumLikelihoodPredictor()\n",
    "        after.num_heads += num_heads\n",
    "        after.N += N\n",
    "        return after\n",
    "    def predict(self):\n",
    "        return self.num_heads / self.N\n",
    "    def get_marginal_likelihood(self, num_heads, N):\n",
    "        return np.nan\n",
    "    def plot(self):\n",
    "        pass\n",
    "\n",
    "# ██████████ TEST ██████████\n",
    "predictor = MaximumLikelihoodPredictor()\n",
    "print(\"Before:\", predictor)\n",
    "# After two flips, both heads, you should get:\n",
    "# After: MaximumLikelihoodPredictor with num_heads = 2, N = 2\n",
    "# which should predict that the next flip will land heads with probability 1.0\n",
    "predictor_after = predictor.updated(2, 2)\n",
    "print(\"After:\", predictor_after)\n",
    "print(\"prediction =\", predictor_after.predict())"
   ]
  },
  {
   "cell_type": "markdown",
   "metadata": {},
   "source": [
    "The two Bayesian predictor classes will be defined next. The first will use a discrete prior: instead of considering the entire range from 0 to 1 (containing infinitely many numbers) as possible values for $R$, it will only consider some finite set of such numbers. It assigns some probability to each of them, and these probabilities add up to 1. This finite set and the associated probabilities can be represented in Python by a dictionary, that maps a value $r$ to the probability assigned to it by the prior. For example, `prior.probability_for_r[.5] = .2` means that $P(R = .5) = .2$.\n",
    "\n",
    "Being a Bayesian predictor, the `updated` function will use Bayes' theorem to compute the posterior distribution after having seen the data. For a discrete prior, the posterior will assign probability to the same set of values of $r$, but the probabilities assigned will usually be different.\n",
    "\n",
    "**Task 2** (1 point): Complete the implementation of the `updated` function below. (You'll finish the other incomplete functions in later tasks.) You can use the provided testing code to see if the posterior looks as it should."
   ]
  },
  {
   "cell_type": "code",
   "execution_count": 146,
   "metadata": {},
   "outputs": [
    {
     "name": "stdout",
     "output_type": "stream",
     "text": [
      "Prior: DiscretePriorPredictor with P(R = 0.3333) = 0.5000; P(R = 0.6667) = 0.5000\n",
      "Posterior: DiscretePriorPredictor with P(R = 0.3333) = 0.2000; P(R = 0.6667) = 0.8000\n",
      "prediction = 0.5999999999999999\n",
      "marginal likelihood = 0.2777777777777778\n"
     ]
    }
   ],
   "source": [
    "class DiscretePriorPredictor:\n",
    "    def __init__(self):\n",
    "        self.probability_for_r = {}\n",
    "    def __str__(self):\n",
    "        return (\"DiscretePriorPredictor with \"\n",
    "                + \"; \".join([f\"P(R = {r:.4f}) = {prior_prob:.4f}\"\n",
    "                             for r, prior_prob in self.probability_for_r.items()]))\n",
    "    def updated(self, num_heads, N):\n",
    "        if not len(self.probability_for_r):\n",
    "            raise ValueError(\"assign probabilities for DiscretePriorPredictor before calling updated\")\n",
    "        posterior = DiscretePriorPredictor()\n",
    "        total_prob = 0.0\n",
    "        for r, prior_prob in self.probability_for_r.items():\n",
    "            # Compute the value in the numerator of Bayes' theorem, and\n",
    "            # assign it to posterior.probability_for_r[r]\n",
    "            \n",
    "            # YOUR CODE HERE FOR TASK 2\n",
    "            likelihood = binom.pmf(num_heads, N, r)        #Calculate the likelihood with the binomial distribution\n",
    "            numerator = likelihood * prior_prob            #For the numerator, multiply the likelihood and the prior probability\n",
    "            posterior.probability_for_r[r] = numerator     #Add this to a list\n",
    "            total_prob += numerator                        #Calculate the total sum for the total probability\n",
    "        # Finaly, divide everything by the sum. The sum is cast to a numpy float\n",
    "        # to avoid division-by-zero errors (numpy gives warnings instead).\n",
    "        for r, posterior_prob in posterior.probability_for_r.items():\n",
    "            posterior.probability_for_r[r] /= np.float64(total_prob)\n",
    "        return posterior\n",
    "    def predict(self):\n",
    "        if not len(self.probability_for_r):\n",
    "            raise ValueError(\"assign probabilities for DiscretePriorPredictor before calling predict\")\n",
    "            \n",
    "        # YOUR CODE HERE FOR TASK 3\n",
    "        # We calculate the total prediction by the sum of r times posterior probability\n",
    "        total_pred = 0.0\n",
    "        for r, posterior_prob in self.probability_for_r.items():\n",
    "            total_pred += r * posterior_prob\n",
    "        return total_pred\n",
    "\n",
    "    def get_marginal_likelihood(self, num_heads, N):\n",
    "        if not len(self.probability_for_r):\n",
    "            raise ValueError(\"assign probabilities for DiscretePriorPredictor before calling get_marginal_likelihood\")\n",
    "            \n",
    "        # YOUR CODE HERE FOR TASK 4\n",
    "        # For the marginal likelihood, we take the sum of the likelihood times the probability\n",
    "        tot_marg_likelihood =0\n",
    "        for r, prior_prob in self.probability_for_r.items():\n",
    "            likelihood = binom.pmf(num_heads, N, r)\n",
    "            tot_marg_likelihood += likelihood * prior_prob\n",
    "        return tot_marg_likelihood\n",
    "    \n",
    "    def plot(self):\n",
    "        plt.figure()\n",
    "        for r, prior_prob in self.probability_for_r.items():\n",
    "            plt.vlines(r, 0, prior_prob, colors='black', linestyles='solid')\n",
    "        plt.xlim(-0.05, 1.05)\n",
    "        plt.ylim(0, 1.1)\n",
    "        plt.xlabel('R')\n",
    "        plt.ylabel('Probability')\n",
    "        plt.title('Probability Distribution')\n",
    "        plt.show()\n",
    "        \n",
    "        pass\n",
    "# ██████████ TEST ██████████\n",
    "discrete_prior = DiscretePriorPredictor()\n",
    "discrete_prior.probability_for_r[1/3] = 1/2\n",
    "discrete_prior.probability_for_r[2/3] = 1/2\n",
    "print(\"Prior:\", discrete_prior)\n",
    "# After two flips, both heads, you should get:\n",
    "# Posterior: DiscretePrior with P(R = 0.3333) = 0.2000; P(R = 0.6667) = 0.8000,\n",
    "# which should predict that the next flip will land heads with probability 0.6.\n",
    "# The marginal likelihood for these data and prior should be ~ 0.2777.\n",
    "discrete_posterior = discrete_prior.updated(2, 2)\n",
    "print(\"Posterior:\", discrete_posterior)\n",
    "print(\"prediction =\", discrete_posterior.predict())\n",
    "print(\"marginal likelihood =\", discrete_prior.get_marginal_likelihood(2, 2))"
   ]
  },
  {
   "cell_type": "markdown",
   "metadata": {},
   "source": [
    "The Bayesian predictive distribution is the distribution over a new coin flip, conditioned on the data. Calling the `predict` function on the posterior should output the probability $P(\\text{new flip = heads} | \\text{previous data})$. You saw how to compute it on the final slide of lecture 5.\n",
    "\n",
    "**Task 3** (1 point): Implement the `predict` function above."
   ]
  },
  {
   "cell_type": "markdown",
   "metadata": {},
   "source": [
    "Finally, the marginal likelihood is the quantity that occurs in the denominator of Bayes' Theorem. In this case, the prior is discrete, so the marginal likelihood is given by a sum.\n",
    "\n",
    "The marginal likelihood is *not conditioned on the data*. In our code, the `posterior` object (computed by `updated`) can tell us things that involve conditioning on the data. But for the marginal likelihood, we'll need to original `prior` object. You'll see that the testing code calls `prior.get_marginal_likelihood`, not `posterior.get_marginal_likelihood`.\n",
    "\n",
    "**Task 4** (0.5 points): Implement the `get_marginal_likelihood` function above."
   ]
  },
  {
   "cell_type": "markdown",
   "metadata": {},
   "source": [
    "**Task 5** (1 point): Implement the function `plot` function above that visualises a `DiscretePriorPredictor` using vertical lines whose height denotes the probability attached to some value of $r$: something like [this figure from Wikipedia](https://en.wikipedia.org/wiki/Discrete_uniform_distribution#/media/File:Uniform_discrete_pmf_svg.svg). Use `plt.vlines`. Set the horizontal axis to run from -0.05 to 1.05. The code below calls your function to plot the prior and the posterior from the test code above."
   ]
  },
  {
   "cell_type": "code",
   "execution_count": 147,
   "metadata": {},
   "outputs": [
    {
     "data": {
      "image/png": "[encoded data removed]",
      "text/plain": [
       "<Figure size 432x288 with 1 Axes>"
      ]
     },
     "metadata": {
      "needs_background": "light"
     },
     "output_type": "display_data"
    },
    {
     "data": {
      "image/png": "[encoded data removed]",
      "text/plain": [
       "<Figure size 432x288 with 1 Axes>"
      ]
     },
     "metadata": {
      "needs_background": "light"
     },
     "output_type": "display_data"
    }
   ],
   "source": [
    "discrete_prior.plot()\n",
    "discrete_posterior.plot()"
   ]
  },
  {
   "cell_type": "markdown",
   "metadata": {},
   "source": [
    "The final predictor class will use the Beta distribution. This is a continuous prior that considers all values of $r$ between 0 and 1. Being the conjugate prior for the binomial likelihood gives it some major computational advantages.\n",
    "\n",
    "**Task 6** (1 point): Implement `updated` and `predict` below for the `BetaPriorPredictor`."
   ]
  },
  {
   "cell_type": "code",
   "execution_count": 148,
   "metadata": {},
   "outputs": [
    {
     "name": "stdout",
     "output_type": "stream",
     "text": [
      "Prior: BetaPriorPredictor with alpha = 1.0000, beta = 1.0000\n",
      "Posterior: BetaPriorPredictor with alpha = 3.0000, beta = 1.0000\n",
      "prediction = 0.75\n",
      "marginal likelihood = 0.3333333333333331\n"
     ]
    }
   ],
   "source": [
    "class BetaPriorPredictor:\n",
    "    def __init__(self, alpha, beta):\n",
    "        self.alpha = alpha\n",
    "        self.beta = beta\n",
    "    def __str__(self):\n",
    "        return f\"BetaPriorPredictor with alpha = {self.alpha:.4f}, beta = {self.beta:.4f}\"\n",
    "    def updated(self, num_heads, N):\n",
    "        # YOUR CODE HERE FOR TASK 6\n",
    "        posterior = BetaPriorPredictor(self.alpha, self.beta)\n",
    "        alpha = self.alpha + num_heads\n",
    "        beta = self.beta + N - num_heads\n",
    "        posterior.alpha = alpha\n",
    "        posterior.beta = beta\n",
    "\n",
    "        \n",
    "        return posterior # CHANGE THIS\n",
    "    def predict(self):\n",
    "        # YOUR CODE HERE FOR TASK 6\n",
    "        pred = self.alpha / (self.alpha + self.beta)\n",
    "        \n",
    "        return pred # CHANGE THIS\n",
    "    def get_marginal_likelihood(self, num_heads, N):\n",
    "        if self.alpha < 1e-9 or self.beta < 1e-9:\n",
    "            return np.nan\n",
    "        # The Gamma function may output really large numbers. To avoid\n",
    "        # numerical inaccuracy, the following code works with logarithms instead,\n",
    "        # converting back to the actual number when all Gamma's have been combined.\n",
    "        return (sps.binom(N, num_heads)\n",
    "                * math.exp(math.lgamma(self.alpha + self.beta)\n",
    "                           - math.lgamma(self.alpha)\n",
    "                           - math.lgamma(self.beta)\n",
    "                           + math.lgamma(self.alpha + num_heads)\n",
    "                           + math.lgamma(self.beta + N - num_heads)\n",
    "                           - math.lgamma(self.alpha + self.beta + N)\n",
    "                          )\n",
    "               )\n",
    "    def plot(self):\n",
    "        # YOUR CODE HERE FOR TASK 7\n",
    "        r = np.linspace(0.00, 1.00, 101)\n",
    "        p = []\n",
    "        q = []   #moet eruit\n",
    "        for i in range(len(r)):\n",
    "            p_i = beta.pdf(r[i], self.alpha, self.beta)\n",
    "            p.append(p_i)\n",
    "        plt.plot(r, p, c='black')\n",
    "        \n",
    "#         Dit klopt nog niet\n",
    "#         plt.title(\"Beta prior predictor\")\n",
    "#         plt.xlabel(\"Probability lands on head\")\n",
    "#         plt.ylabel(\"Likelihood\")\n",
    "        plt.show()\n",
    "        \n",
    "        \n",
    "        pass\n",
    "\n",
    "# ██████████ TEST ██████████\n",
    "beta_prior = BetaPriorPredictor(1, 1)\n",
    "print(\"Prior:\", beta_prior)\n",
    "# After two flips, both heads, you should get:\n",
    "# Posterior: BetaPrior with alpha = 3.0000, beta = 1.0000\n",
    "# which should predict that the next flip will land heads with probability 0.75\n",
    "# The marginal likelihood for these data and prior should be ~ 0.3333.\n",
    "beta_posterior = beta_prior.updated(2, 2)\n",
    "print(\"Posterior:\", beta_posterior)\n",
    "print(\"prediction =\", beta_posterior.predict())\n",
    "print(\"marginal likelihood =\", beta_prior.get_marginal_likelihood(2, 2))"
   ]
  },
  {
   "cell_type": "markdown",
   "metadata": {},
   "source": [
    "**Task 7** (0.5 points): Write a function that visualises a `BetaPriorPredictor` by plotting its probability density function. You can use the `beta` object from `scipy.stats`, which has already been imported. The code below will plot the prior and the posterior from the test code above."
   ]
  },
  {
   "cell_type": "code",
   "execution_count": 149,
   "metadata": {},
   "outputs": [
    {
     "data": {
      "image/png": "[encoded data removed]",
      "text/plain": [
       "<Figure size 432x288 with 1 Axes>"
      ]
     },
     "metadata": {
      "needs_background": "light"
     },
     "output_type": "display_data"
    },
    {
     "data": {
      "image/png": "[encoded data removed]",
      "text/plain": [
       "<Figure size 432x288 with 1 Axes>"
      ]
     },
     "metadata": {
      "needs_background": "light"
     },
     "output_type": "display_data"
    }
   ],
   "source": [
    "beta_prior.plot()\n",
    "beta_posterior.plot()"
   ]
  },
  {
   "cell_type": "markdown",
   "metadata": {},
   "source": [
    "**Question 8** (0.5 points): For what values of alpha and beta does the Beta distribution have the same shape as the likelihood you plotted in task 1? Explain your answer, and verify it by showing the plot."
   ]
  },
  {
   "cell_type": "markdown",
   "metadata": {},
   "source": [
    "*YOUR ANSWER HERE*\n",
    "\n",
    "Hij heeft wel dezelfde vorm, maar is tien keer te hoog, dus weet niet of het goed is"
   ]
  },
  {
   "cell_type": "code",
   "execution_count": 150,
   "metadata": {},
   "outputs": [
    {
     "data": {
      "image/png": "[encoded data removed]",
      "text/plain": [
       "<Figure size 432x288 with 1 Axes>"
      ]
     },
     "metadata": {
      "needs_background": "light"
     },
     "output_type": "display_data"
    }
   ],
   "source": [
    "# YOUR CODE HERE\n",
    "beta_posterior = beta_prior.updated(9, 10)\n",
    "beta_posterior.plot()"
   ]
  },
  {
   "cell_type": "markdown",
   "metadata": {},
   "source": [
    "### Experimenting with different predictors\n",
    "\n",
    "Next, we want to see the predictors in action. First, the code below creates a list of ten predictors, using the three classes defined above. We'll investigate their behaviour on several different values of the true probability of getting heads. These probabilities are defined below by `true_rs = [0, .3, .5, 2/3, .75, .999]`.\n",
    "\n",
    "Note that the final predictor in the list, `BetaPriorPredictor(0, 0)`, doesn't satisfy the constraints for being a proper Beta prior: that requires $\\alpha > 0$ and $\\beta > 0$. The problem is in the normalisation constant, which is undefined in this case. As we've seen, we can often get away with ignoring the normalisation constant, and by carrying this a bit further, we can use this unnormalised distribution as a prior in Bayes' theorem. Such a thing is called a *degenerate prior*. Often (but not always), the posterior we find will be a proper distribution again."
   ]
  },
  {
   "cell_type": "code",
   "execution_count": 151,
   "metadata": {},
   "outputs": [],
   "source": [
    "# Create a list of predictors to be compared.\n",
    "\n",
    "predictors = [MaximumLikelihoodPredictor()]\n",
    "\n",
    "prior = DiscretePriorPredictor()\n",
    "prior.probability_for_r[1/3] = 1/2\n",
    "prior.probability_for_r[2/3] = 1/2\n",
    "predictors.append(prior)\n",
    "\n",
    "prior = DiscretePriorPredictor()\n",
    "prior.probability_for_r[1/3] = 1/3\n",
    "prior.probability_for_r[1/2] = 1/3\n",
    "prior.probability_for_r[2/3] = 1/3\n",
    "predictors.append(prior)\n",
    "\n",
    "prior = DiscretePriorPredictor()\n",
    "prior.probability_for_r[0] = 1/2\n",
    "prior.probability_for_r[1] = 1/2\n",
    "predictors.append(prior)\n",
    "\n",
    "prior = DiscretePriorPredictor()\n",
    "for r in np.linspace(0, 1, 11):\n",
    "    prior.probability_for_r[r] = 1/11\n",
    "predictors.append(prior)\n",
    "\n",
    "prior = DiscretePriorPredictor()\n",
    "for r in np.linspace(0, 1, 101):\n",
    "    prior.probability_for_r[r] = 1/101\n",
    "predictors.append(prior)\n",
    "\n",
    "prior = BetaPriorPredictor(1, 1)\n",
    "predictors.append(prior)\n",
    "\n",
    "prior = BetaPriorPredictor(3, 3)\n",
    "predictors.append(prior)\n",
    "\n",
    "prior = BetaPriorPredictor(.5, .5)\n",
    "predictors.append(prior)\n",
    "\n",
    "prior = BetaPriorPredictor(0, 0)\n",
    "predictors.append(prior)\n",
    "\n",
    "true_rs = [0, .3, .5, 2/3, .75, .999]"
   ]
  },
  {
   "cell_type": "markdown",
   "metadata": {},
   "source": [
    "For each combination of a predictor and a value $r_\\text{true}$ from `true_rs`, we will do the following experiment. We'll sample some training data (100 coin flips) and compute an updated predictor using these data. For the Bayesian predictors, this comes down to computing the posterior distribution. Then we'll sample some test data (again 100 points). For both the training and the test data, the true probability of getting heads on each flip is given by $r_\\text{true}$.\n",
    "\n",
    "Now we want to evaluate how well the predictor does at predicting the test data. There are several ways to measure this. We'll try two different ones: the *logarithmic loss* and the *logarithmic regret*.\n",
    "\n",
    "The **logarithmic loss** is something you may have seen before in other places. For instance, logistic regression is training to minimise this loss, and it's also one of the most popular choices when training neural networks for binary classification problems (there you may have seen it under the name \"cross entropy\"). Suppose the predictor assigns probability $\\hat{r}$ to the outcome heads for a new coin flip $Y_\\text{new}$, and that a new flip actually comes out as $y_\\text{new}$ (1 for heads, 0 for tails). Then the logarithmic loss of this prediction is\n",
    "$$-\\log P_{\\hat{r}} ( Y_\\text{new} = y_\\text{new} ).$$\n",
    "In other words, if the coin in the test data came up heads, the loss is $-\\log (\\hat{r})$; if it came up tails, the loss is $-\\log (1 - \\hat{r})$.\n",
    "\n",
    "The logarithm of 1 is 0, and as $x$ goes down to $0$, $\\log(x)$ goes down to $-\\infty$. So we see that the logarithmic loss is a small positive number if the outcome of the test data point was something the predictor thought was probably going to happen. But if something happens that the predictor thought would happen only with a small probability, the logarithmic loss will be larger.\n",
    "\n",
    "The test set consists of 100 coin flips, and the loss on the test data is the *sum* of the losses of all these coin flips.\n",
    "\n",
    "*Implementation note 1*: because the logarithm of 0 is minus infinity, write your code in such a way that if no flip happened in the test data for which the predicted probability was 0, then $\\log(0)$ isn't called.\n",
    "\n",
    "*Implementation note 2*: to compute logarithms, use `np.log` (not `math.log`). The advantage of `np.log` here is that if it does encounter a $\\log(0)$, it gives a warning and allows the rest of the experiment to continue, while `math.log` would give an error and stop your code from running further.\n",
    "\n",
    "One issue with logarithmic loss (or any loss, for that matter) is, that it's easier for predictors to get low average losses if $r_\\text{true}$ is close to 0 or 1, but much harder if it's closer to 0.5. To make the comparisons between experiments more fair, we can look at the **regret** corresponding to the loss, so logarithmic regret in our case. The regret equals the loss of a predictor *minus* the loss of an ideal predictor that already knew the value $r_\\text{true}$. In other words, the ideal predictor uses $r_\\text{true}$ in the place where other predictors use $\\hat{r}$. By comparing our predictor's loss to the loss even a clairvoyant predictor would obtain, we'll get numbers that are more meaningful when different values of $r_\\text{true}$ are involved.\n",
    "\n",
    "Like with the losses, the regret on the test data is the *sum* of the regrets of the individual coin flips.\n",
    "\n",
    "**Task 9** (1.5 points): For each combination of predictor and $r_\\text{true}$, repeat this process 100 times (including getting new training and new test data every time), and store the following in three NumPy arrays:\n",
    "\n",
    "* The average loss;\n",
    "\n",
    "* The average regret;\n",
    "\n",
    "* The average marginal likelihood of the *training data* (don't use the test data for this one!)\n",
    "\n",
    "(All averages are over the 100 repeats of the same experiment.)"
   ]
  },
  {
   "cell_type": "code",
   "execution_count": 155,
   "metadata": {},
   "outputs": [
    {
     "name": "stdout",
     "output_type": "stream",
     "text": [
      "0.0\n",
      "6136.115582141432\n",
      "6983.723832101383\n",
      "6456.711991908064\n",
      "5723.220503057796\n",
      "28.441018815092153\n",
      "4054.651081082452\n",
      "6117.456937861205\n",
      "7409.763994640163\n",
      "6382.985541339711\n",
      "5829.107863348056\n",
      "4061.5825528880514\n",
      "4054.6510810826844\n",
      "6192.84323985716\n",
      "6979.32547065188\n",
      "6364.500279362874\n",
      "5773.946161118576\n",
      "4062.2757000688566\n",
      "0.0\n"
     ]
    },
    {
     "name": "stderr",
     "output_type": "stream",
     "text": [
      "C:\\Users\\npeet\\AppData\\Local\\Temp/ipykernel_28388/1292695476.py:25: RuntimeWarning: invalid value encountered in double_scalars\n",
      "  posterior.probability_for_r[r] /= np.float64(total_prob)\n"
     ]
    },
    {
     "name": "stdout",
     "output_type": "stream",
     "text": [
      "nan\n",
      "nan\n",
      "nan\n",
      "nan\n",
      "nan\n",
      "0.026561136064577728\n",
      "6144.643193946573\n",
      "6959.429838125773\n",
      "6400.282390111938\n",
      "5690.3350859624725\n",
      "225.53948006874862\n",
      "56.85735779245247\n",
      "6142.40781831017\n",
      "6975.633294854273\n",
      "6377.1360183218685\n",
      "5740.162747995723\n",
      "124.72408405481025\n",
      "98.52296443013456\n",
      "6185.223174724316\n",
      "6975.9304415406\n",
      "6439.8381643004905\n",
      "5693.1124207680505\n",
      "155.25948862725917\n",
      "287.10105882429485\n",
      "6119.813117060037\n",
      "6963.593736143814\n",
      "6425.0987676605955\n",
      "5730.463834695424\n",
      "326.7406612264266\n",
      "49.62789342129773\n",
      "6143.524136306506\n",
      "7001.934988717904\n",
      "6382.736239869004\n",
      "5707.822910507645\n",
      "98.76122904440723\n",
      "0.0\n",
      "6112.600731498589\n",
      "6994.319765640018\n",
      "6440.719767524301\n",
      "5641.397284383924\n",
      "8.615254191535142\n",
      "[[0.00000000e+00 6.13611558e+01 6.98372383e+01 6.45671199e+01\n",
      "  5.72322050e+01 2.84410188e-01]\n",
      " [4.05465108e+01 6.11745694e+01 7.40976399e+01 6.38298554e+01\n",
      "  5.82910786e+01 4.06158255e+01]\n",
      " [4.05465108e+01 6.19284324e+01 6.97932547e+01 6.36450028e+01\n",
      "  5.77394616e+01 4.06227570e+01]\n",
      " [0.00000000e+00            nan            nan            nan\n",
      "             nan            nan]\n",
      " [2.65611361e-04 6.14464319e+01 6.95942984e+01 6.40028239e+01\n",
      "  5.69033509e+01 2.25539480e+00]\n",
      " [5.68573578e-01 6.14240782e+01 6.97563329e+01 6.37713602e+01\n",
      "  5.74016275e+01 1.24724084e+00]\n",
      " [9.85229644e-01 6.18522317e+01 6.97593044e+01 6.43983816e+01\n",
      "  5.69311242e+01 1.55259489e+00]\n",
      " [2.87101059e+00 6.11981312e+01 6.96359374e+01 6.42509877e+01\n",
      "  5.73046383e+01 3.26740661e+00]\n",
      " [4.96278934e-01 6.14352414e+01 7.00193499e+01 6.38273624e+01\n",
      "  5.70782291e+01 9.87612290e-01]\n",
      " [0.00000000e+00 6.11260073e+01 6.99431977e+01 6.44071977e+01\n",
      "  5.64139728e+01 8.61525419e-02]]\n",
      "[[ 0.00000000e+00  6.81428589e-01  5.22520265e-01  5.78371462e-01\n",
      "   3.17550950e-01 -7.82585514e-01]\n",
      " [ 4.05465108e+01  2.91490660e-01  4.78292189e+00  5.30807580e-04\n",
      "   1.39839680e+00  3.98251000e+01]\n",
      " [ 4.05465108e+01  3.33623477e-01  4.78536651e-01  2.17703553e-01\n",
      "   1.72566961e+00  3.97629639e+01]\n",
      " [ 0.00000000e+00             nan             nan             nan\n",
      "              nan             nan]\n",
      " [ 2.65611361e-04  4.44731520e-01  2.79580325e-01  4.36895224e-01\n",
      "   5.59975169e-01  1.39560174e+00]\n",
      " [ 5.68573578e-01  4.05431806e-01  4.41614893e-01  4.68827435e-01\n",
      "   3.99084416e-01  5.25582877e-01]\n",
      " [ 9.85229644e-01  5.45504098e-01  4.44586359e-01  3.68044355e-01\n",
      "   4.88873411e-01  6.92801827e-01]\n",
      " [ 2.87101059e+00  2.30322666e-01  3.21219305e-01  5.39498091e-01\n",
      "   5.10831618e-01  2.54574865e+00]\n",
      " [ 4.96278934e-01  6.36892430e-01  7.04631831e-01  3.65405799e-01\n",
      "   4.38228096e-01  4.04089423e-01]\n",
      " [ 0.00000000e+00  4.46280082e-01  6.28479600e-01  4.04586274e-01\n",
      "   3.78208594e-01 -7.73640517e-01]]\n",
      "[[           nan            nan            nan            nan\n",
      "             nan            nan]\n",
      " [2.45965443e-18 5.52422737e-02 5.48233747e-03 5.97042737e-02\n",
      "  2.77848553e-02 4.37203574e-17]\n",
      " [2.45965443e-18 4.66779539e-02 5.51402661e-02 5.72955055e-02\n",
      "  3.10295427e-02 1.45119611e-17]\n",
      " [1.00000000e+00            nan            nan            nan\n",
      "             nan            nan]\n",
      " [9.99973440e-01 6.26877756e-02 5.70098242e-02 6.18441693e-02\n",
      "  6.29555764e-02 9.19999174e-01]\n",
      " [7.34140945e-01 6.26968539e-02 5.67719917e-02 6.01839980e-02\n",
      "  6.65896766e-02 6.71945405e-01]\n",
      " [5.02487562e-01 6.15965779e-02 5.67424718e-02 5.99986665e-02\n",
      "  6.52581401e-02 4.87488687e-01]\n",
      " [1.32488992e-01 6.17436210e-02 5.72491070e-02 6.02967144e-02\n",
      "  6.48847116e-02 1.32457156e-01]\n",
      " [7.07548858e-01 6.28032305e-02 5.67011914e-02 5.98191877e-02\n",
      "  6.58617260e-02 6.58339387e-01]\n",
      " [           nan 6.21923654e-02 5.65064938e-02 6.00526194e-02\n",
      "  6.54999765e-02            nan]]\n"
     ]
    }
   ],
   "source": [
    "num_pred = len(predictors)\n",
    "num_rs = len(true_rs)\n",
    "num_repeats = 100\n",
    "N_train = 100\n",
    "N_test = 100\n",
    "average_losses = np.zeros((num_pred, num_rs))\n",
    "average_regrets = np.zeros((num_pred, num_rs))\n",
    "average_marginal_likelihoods = np.zeros((num_pred, num_rs))\n",
    "\n",
    "# YOUR CODE HERE\n",
    "avg_loss =[]\n",
    "for i in range(num_pred):\n",
    "    predictor = predictors[i]\n",
    "\n",
    "    for j in range(num_rs):\n",
    "        total_loss = 0.0          \n",
    "        total_loss_rtrue = 0.0     \n",
    "        total_marginal = 0.0\n",
    "        \n",
    "        for k in range(num_repeats):\n",
    "            train = binom.rvs(1, true_rs[j], size=100)\n",
    "            predictor_updated = predictor.updated(sum(train), N_train)\n",
    "            prediction = predictor_updated.predict()\n",
    "\n",
    "            test= binom.rvs(1, true_rs[j], size=100)   \n",
    "            \n",
    "            \n",
    "        #Loss berekenen voor de prediction\n",
    "            for t in test:\n",
    "                if t == 1:\n",
    "                    if prediction == 0:\n",
    "                        loss = 0.0\n",
    "                    else:\n",
    "                        loss = (-np.log(prediction))\n",
    "                else:\n",
    "                    if prediction == 1:\n",
    "                        loss = 0.0\n",
    "                    else:\n",
    "                        loss = -np.log(1-prediction)\n",
    "                total_loss += loss\n",
    "            \n",
    "        #idem maar dan voor r_true\n",
    "                if t == 1:\n",
    "                    if true_rs[j] == 0:\n",
    "                        loss2 = 0.0\n",
    "                    else:\n",
    "                        loss2 = (-np.log(true_rs[j]))\n",
    "                else:\n",
    "                    if true_rs[j] == 1:\n",
    "                        loss2 = 0.0\n",
    "                    else:\n",
    "                        loss2 = -np.log(1-true_rs[j])\n",
    "                total_loss_rtrue += loss2\n",
    "          \n",
    "            marginal_likelihood = predictor_updated.get_marginal_likelihood(sum(train), N_train)\n",
    "            total_marginal += marginal_likelihood\n",
    "        \n",
    "        average_losses[i][j] = total_loss/num_repeats     \n",
    "        average_regrets[i][j] = (total_loss - total_loss_rtrue)/num_repeats\n",
    "        average_marginal_likelihoods[i][j] = total_marginal/num_repeats\n",
    "\n",
    "print(average_losses)\n",
    "print(average_regrets)\n",
    "print(average_marginal_likelihoods)"
   ]
  },
  {
   "cell_type": "markdown",
   "metadata": {},
   "source": [
    "**Question 10** (2 points + 1 bonus point): Now analyse the results of your experiment. Answer at least the following questions:\n",
    "\n",
    "* For each combination of predictor and $r_\\text{true}$ that gives `inf` or `nan` loss, explain why the average loss isn't finite.\n",
    "\n",
    "* What are the strengths and weaknesses of the different predictors? In a situation where you don't know anything about $r_\\text{true}$ beforehand, which priors would you recommend, and which not?\n",
    "\n",
    "* BONUS: Look at the marginal likelihoods, say something about model selection\n",
    "\n",
    "You can accompany your answer by additional code that produces tables or figures."
   ]
  },
  {
   "cell_type": "markdown",
   "metadata": {},
   "source": [
    "*YOUR ANSWER HERE*"
   ]
  },
  {
   "cell_type": "code",
   "execution_count": null,
   "metadata": {},
   "outputs": [],
   "source": [
    "# YOUR CODE HERE"
   ]
  },
  {
   "cell_type": "markdown",
   "metadata": {},
   "source": [
    "    \n",
    "---\n",
    "\n",
    "<br>\n",
    "<br>"
   ]
  },
  {
   "cell_type": "markdown",
   "metadata": {},
   "source": [
    "**Remember: Before you submit, click Kernel > Restart & Run All to make sure you submit a working version of your code!**"
   ]
  }
 ],
 "metadata": {
  "kernelspec": {
   "display_name": "Python 3 (ipykernel)",
   "language": "python",
   "name": "python3"
  },
  "language_info": {
   "codemirror_mode": {
    "name": "ipython",
    "version": 3
   },
   "file_extension": ".py",
   "mimetype": "text/x-python",
   "name": "python",
   "nbconvert_exporter": "python",
   "pygments_lexer": "ipython3",
   "version": "3.9.7"
  },
  "toc": {
   "base_numbering": 1,
   "nav_menu": {},
   "number_sections": true,
   "sideBar": true,
   "skip_h1_title": false,
   "title_cell": "Table of Contents",
   "title_sidebar": "Contents",
   "toc_cell": false,
   "toc_position": {},
   "toc_section_display": true,
   "toc_window_display": true
  }
 },
 "nbformat": 4,
 "nbformat_minor": 4
}
